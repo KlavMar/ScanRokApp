{
 "cells": [
  {
   "cell_type": "code",
   "execution_count": 33,
   "id": "dff2a44b-68dd-426f-ae74-c5203ec726d7",
   "metadata": {
    "tags": []
   },
   "outputs": [],
   "source": [
    "import json\n",
    "import pandas as pd \n",
    "import os \n",
    "from pathlib import Path"
   ]
  },
  {
   "cell_type": "code",
   "execution_count": 67,
   "id": "a49cf7b0-eb2a-4fd9-8bbb-dd901885acd0",
   "metadata": {
    "tags": []
   },
   "outputs": [
    {
     "name": "stdout",
     "output_type": "stream",
     "text": [
      "/Users/kevinlamarque/Desktop/scan/extract/1165/2025-09-20/scan_18_23_28.csv\n",
      "/Users/kevinlamarque/Desktop/scan/extract/1165/2025-09-20/scan_18_37_24.csv\n",
      "/Users/kevinlamarque/Desktop/scan/extract/1165/2025-09-20/backup_18_37_24.ndjson\n",
      "/Users/kevinlamarque/Desktop/scan/extract/1165/2025-09-20/backup_18_23_28.ndjson\n",
      "/Users/kevinlamarque/Desktop/scan/extract/1165/2025-09-20/backup_18_22_04.ndjson\n"
     ]
    }
   ],
   "source": [
    "dir_ = os.path.join(os.getcwd(),\"extract/1165/2025-09-20/\")\n",
    "for root,dir_,files in os.walk(dir_):\n",
    "    for file in files:\n",
    "        print(Path(root) / file)"
   ]
  },
  {
   "cell_type": "code",
   "execution_count": 69,
   "id": "2c15dc82-1c19-4fbd-9f3a-ae799177ed7f",
   "metadata": {
    "tags": []
   },
   "outputs": [
    {
     "data": {
      "text/html": [
       "<div>\n",
       "<style scoped>\n",
       "    .dataframe tbody tr th:only-of-type {\n",
       "        vertical-align: middle;\n",
       "    }\n",
       "\n",
       "    .dataframe tbody tr th {\n",
       "        vertical-align: top;\n",
       "    }\n",
       "\n",
       "    .dataframe thead th {\n",
       "        text-align: right;\n",
       "    }\n",
       "</style>\n",
       "<table border=\"1\" class=\"dataframe\">\n",
       "  <thead>\n",
       "    <tr style=\"text-align: right;\">\n",
       "      <th></th>\n",
       "      <th>governor_id</th>\n",
       "      <th>id_kingdom</th>\n",
       "      <th>governor_name</th>\n",
       "      <th>civilisation</th>\n",
       "      <th>alliance</th>\n",
       "      <th>kill_points</th>\n",
       "      <th>power</th>\n",
       "      <th>t1_kills</th>\n",
       "      <th>t3_kills</th>\n",
       "      <th>t2_kills</th>\n",
       "      <th>t4_kills</th>\n",
       "      <th>t5_kills</th>\n",
       "      <th>highest_power</th>\n",
       "      <th>victory</th>\n",
       "      <th>alliance_help</th>\n",
       "      <th>defeat</th>\n",
       "      <th>ressources_gathered</th>\n",
       "      <th>deads</th>\n",
       "      <th>ressources_assistance</th>\n",
       "    </tr>\n",
       "  </thead>\n",
       "  <tbody>\n",
       "    <tr>\n",
       "      <th>0</th>\n",
       "      <td>36358721</td>\n",
       "      <td>1165</td>\n",
       "      <td>xBärchenx</td>\n",
       "      <td>Germany</td>\n",
       "      <td>[Aw65]Warriors of Agum</td>\n",
       "      <td>1863168093</td>\n",
       "      <td>103679188</td>\n",
       "      <td>191285</td>\n",
       "      <td>796908</td>\n",
       "      <td>1538200</td>\n",
       "      <td>441206760</td>\n",
       "      <td>1419434940</td>\n",
       "      <td>104335912</td>\n",
       "      <td>261538</td>\n",
       "      <td>96364</td>\n",
       "      <td>1856</td>\n",
       "      <td>29442079503</td>\n",
       "      <td>17102137</td>\n",
       "      <td>4547184801</td>\n",
       "    </tr>\n",
       "    <tr>\n",
       "      <th>1</th>\n",
       "      <td>85205228</td>\n",
       "      <td>1165</td>\n",
       "      <td>BaByFknShark</td>\n",
       "      <td>Germany</td>\n",
       "      <td>[Aw65]Warriors of Agum</td>\n",
       "      <td>1081295534</td>\n",
       "      <td>98510828</td>\n",
       "      <td>392588</td>\n",
       "      <td>1026792</td>\n",
       "      <td>922324</td>\n",
       "      <td>177330630</td>\n",
       "      <td>901623200</td>\n",
       "      <td>98530132</td>\n",
       "      <td>111988</td>\n",
       "      <td>41884</td>\n",
       "      <td>1775</td>\n",
       "      <td>18408524433</td>\n",
       "      <td>8968012</td>\n",
       "      <td>1908830787</td>\n",
       "    </tr>\n",
       "  </tbody>\n",
       "</table>\n",
       "</div>"
      ],
      "text/plain": [
       "   governor_id  id_kingdom governor_name civilisation                alliance  \\\n",
       "0     36358721        1165     xBärchenx      Germany  [Aw65]Warriors of Agum   \n",
       "1     85205228        1165  BaByFknShark      Germany  [Aw65]Warriors of Agum   \n",
       "\n",
       "   kill_points      power  t1_kills  t3_kills  t2_kills   t4_kills  \\\n",
       "0   1863168093  103679188    191285    796908   1538200  441206760   \n",
       "1   1081295534   98510828    392588   1026792    922324  177330630   \n",
       "\n",
       "     t5_kills  highest_power  victory  alliance_help  defeat  \\\n",
       "0  1419434940      104335912   261538          96364    1856   \n",
       "1   901623200       98530132   111988          41884    1775   \n",
       "\n",
       "   ressources_gathered     deads  ressources_assistance  \n",
       "0          29442079503  17102137             4547184801  \n",
       "1          18408524433   8968012             1908830787  "
      ]
     },
     "execution_count": 69,
     "metadata": {},
     "output_type": "execute_result"
    }
   ],
   "source": [
    "df = pd.read_json(\"/Users/kevinlamarque/Desktop/scan/extract/1165/2025-09-20/backup_18_23_28.ndjson\", lines=True)\n",
    "records = [json.loads(line) for line in open('/Users/kevinlamarque/Desktop/scan/extract/1165/2025-09-20/backup_18_37_24.ndjson', \"r\", encoding=\"utf-8\")]\n",
    "# Re-normaliser les enregistrements pour aplatir toutes les colonnes dict\n",
    "df = pd.json_normalize(records, sep=\".\")\n",
    "df"
   ]
  },
  {
   "cell_type": "code",
   "execution_count": null,
   "id": "bea2ffca-822b-4e96-b78a-8df1d387d600",
   "metadata": {},
   "outputs": [],
   "source": []
  }
 ],
 "metadata": {
  "kernelspec": {
   "display_name": "Python 3 (ipykernel)",
   "language": "python",
   "name": "python3"
  },
  "language_info": {
   "codemirror_mode": {
    "name": "ipython",
    "version": 3
   },
   "file_extension": ".py",
   "mimetype": "text/x-python",
   "name": "python",
   "nbconvert_exporter": "python",
   "pygments_lexer": "ipython3",
   "version": "3.11.5"
  }
 },
 "nbformat": 4,
 "nbformat_minor": 5
}
